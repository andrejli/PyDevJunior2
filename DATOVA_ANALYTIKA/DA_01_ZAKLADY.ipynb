{
 "cells": [
  {
   "cell_type": "code",
   "execution_count": 5,
   "id": "31fd643b",
   "metadata": {},
   "outputs": [],
   "source": [
    "import math\n",
    "import random"
   ]
  },
  {
   "cell_type": "markdown",
   "id": "0b86a643",
   "metadata": {},
   "source": [
    "# NADPIS\n",
    "Toto je interaktivna forma Pythonu pre Datovu analytiku, vzdelavanie a prototypovanie."
   ]
  },
  {
   "cell_type": "code",
   "execution_count": 22,
   "id": "9a9447ba",
   "metadata": {},
   "outputs": [
    {
     "name": "stdout",
     "output_type": "stream",
     "text": [
      "[722, 655, 1780, 1382, 5641, 5452, 7194, 8244, 8698, 599, 917, 271, 889, 4586, 5779, 7016, 4963, 4009, 6100, 6501, 240, 6398, 495, 2215, 966, 7661, 9874, 4974, 8887, 4378, 3967, 4760, 7195, 6037, 9987, 7660, 3012, 3747, 8962, 3794, 4399, 81, 5522, 9616, 1070, 4077, 6580, 617, 4916, 505, 2548, 6913, 1456, 2308, 9022, 4048, 6497, 2006, 2909, 9396, 5345, 2080, 463, 6362, 179, 3623, 5337, 8595, 380, 809, 612, 2620, 4805, 7233, 4333, 403, 4557, 8650, 5032, 9750, 2925, 5643, 430, 9352, 7004, 1110, 5322, 5655, 9711, 9797, 9917, 7395, 22, 4324, 3887, 5020, 2486, 4811, 6105, 1137]\n"
     ]
    }
   ],
   "source": [
    "data = list()\n",
    "for i in range(100):\n",
    "    data.append(random.randint(0,9999))\n",
    "print(data)"
   ]
  },
  {
   "cell_type": "code",
   "execution_count": null,
   "id": "eae56704",
   "metadata": {},
   "outputs": [],
   "source": []
  },
  {
   "cell_type": "code",
   "execution_count": 23,
   "id": "c13d110c",
   "metadata": {
    "scrolled": true
   },
   "outputs": [
    {
     "name": "stdout",
     "output_type": "stream",
     "text": [
      "['722', '655', '1780', '1382', '5641', '5452', '7194', '8244', '8698', '599', '917', '271', '889', '4586', '5779', '7016', '4963', '4009', '6100', '6501', '240', '6398', '495', '2215', '966', '7661', '9874', '4974', '8887', '4378', '3967', '4760', '7195', '6037', '9987', '7660', '3012', '3747', '8962', '3794', '4399', '81', '5522', '9616', '1070', '4077', '6580', '617', '4916', '505', '2548', '6913', '1456', '2308', '9022', '4048', '6497', '2006', '2909', '9396', '5345', '2080', '463', '6362', '179', '3623', '5337', '8595', '380', '809', '612', '2620', '4805', '7233', '4333', '403', '4557', '8650', '5032', '9750', '2925', '5643', '430', '9352', '7004', '1110', '5322', '5655', '9711', '9797', '9917', '7395', '22', '4324', '3887', '5020', '2486', '4811', '6105', '1137']\n"
     ]
    }
   ],
   "source": [
    "datastrings = list()\n",
    "for i in data:\n",
    "    datastrings.append(str(i))\n",
    "print(datastrings)"
   ]
  },
  {
   "cell_type": "code",
   "execution_count": 24,
   "id": "4f4ceb8b",
   "metadata": {},
   "outputs": [
    {
     "name": "stdout",
     "output_type": "stream",
     "text": [
      "['1070', '1110', '1137', '1382', '1456', '1780', '179', '2006', '2080', '22', '2215', '2308', '240', '2486', '2548', '2620', '271', '2909', '2925', '3012', '3623', '3747', '3794', '380', '3887', '3967', '4009', '403', '4048', '4077', '430', '4324', '4333', '4378', '4399', '4557', '4586', '463', '4760', '4805', '4811', '4916', '495', '4963', '4974', '5020', '5032', '505', '5322', '5337', '5345', '5452', '5522', '5641', '5643', '5655', '5779', '599', '6037', '6100', '6105', '612', '617', '6362', '6398', '6497', '6501', '655', '6580', '6913', '7004', '7016', '7194', '7195', '722', '7233', '7395', '7660', '7661', '809', '81', '8244', '8595', '8650', '8698', '8887', '889', '8962', '9022', '917', '9352', '9396', '9616', '966', '9711', '9750', '9797', '9874', '9917', '9987']\n"
     ]
    }
   ],
   "source": [
    "datastrings.sort(reverse=False)\n",
    "print(datastrings)"
   ]
  },
  {
   "cell_type": "code",
   "execution_count": 25,
   "id": "0de647b2",
   "metadata": {},
   "outputs": [
    {
     "name": "stdout",
     "output_type": "stream",
     "text": [
      "[22, 81, 179, 240, 271, 380, 403, 430, 463, 495, 505, 599, 612, 617, 655, 722, 809, 889, 917, 966, 1070, 1110, 1137, 1382, 1456, 1780, 2006, 2080, 2215, 2308, 2486, 2548, 2620, 2909, 2925, 3012, 3623, 3747, 3794, 3887, 3967, 4009, 4048, 4077, 4324, 4333, 4378, 4399, 4557, 4586, 4760, 4805, 4811, 4916, 4963, 4974, 5020, 5032, 5322, 5337, 5345, 5452, 5522, 5641, 5643, 5655, 5779, 6037, 6100, 6105, 6362, 6398, 6497, 6501, 6580, 6913, 7004, 7016, 7194, 7195, 7233, 7395, 7660, 7661, 8244, 8595, 8650, 8698, 8887, 8962, 9022, 9352, 9396, 9616, 9711, 9750, 9797, 9874, 9917, 9987]\n"
     ]
    }
   ],
   "source": [
    "data_sorted1 = sorted(data, reverse=False)\n",
    "print(data_sorted1)"
   ]
  },
  {
   "cell_type": "code",
   "execution_count": 26,
   "id": "9e8886b8",
   "metadata": {},
   "outputs": [
    {
     "name": "stdout",
     "output_type": "stream",
     "text": [
      "[2825, 2984, 9032, 9440, 2626, 187, 2007, 9623, 2132, 3193, 4320, 4550, 7035, 5458, 1882, 3508, 7939, 4257, 5954, 9822, 1920, 4576, 8040, 4737, 8884, 8957, 8470, 9124, 5590, 7354, 3112, 4315, 6177, 505, 758, 3416, 4, 9995, 9423, 1959, 5298, 9412, 4317, 9879, 891, 1316, 2182, 6259, 7780, 5901, 3204, 603, 5926, 5609, 3357, 6443, 5908, 3021, 6178, 5843, 8777, 4645, 4446, 2968, 9682, 4588, 2219, 5093, 2690, 7294, 357, 7458, 9407, 6761, 4028, 7894, 7117, 9886, 1193, 3200, 1269, 546, 4610, 8258, 6537, 8971, 7611, 331, 1208, 2770, 8711, 9962, 4935, 3385, 4506, 3466, 3413, 1430, 3891, 598]\n"
     ]
    }
   ],
   "source": [
    "data2 = list()\n",
    "for i in range(100):\n",
    "    data2.append(random.randint(0,9999))\n",
    "print(data2)"
   ]
  },
  {
   "cell_type": "code",
   "execution_count": null,
   "id": "bff79044",
   "metadata": {},
   "outputs": [],
   "source": []
  },
  {
   "cell_type": "code",
   "execution_count": 27,
   "id": "583d0a45",
   "metadata": {},
   "outputs": [
    {
     "name": "stdout",
     "output_type": "stream",
     "text": [
      "<map object at 0x0000025F1765E8F0>\n",
      "[True, False, False, True, False, True, False, True, False, False, False, False, True, False, False, True, False, False, False, True, True, True, False, True, True, True, True, True, False, True, True, True, True, False, False, True, False, False, True, False, False, False, True, False, True, False, True, False, False, True, True, False, False, True, False, True, True, True, True, False, False, True, True, False, False, False, False, False, True, False, True, True, False, False, True, False, True, True, True, False, False, False, True, False, True, False, True, True, False, True, True, True, True, True, False, True, False, True, False, False]\n"
     ]
    }
   ],
   "source": [
    "f = lambda x : x / 2 == int(x/2)\n",
    "data_result = map(f, data_sorted1)\n",
    "print(data_result)\n",
    "print(list(data_result))"
   ]
  },
  {
   "cell_type": "code",
   "execution_count": 28,
   "id": "5d151fe5",
   "metadata": {},
   "outputs": [
    {
     "name": "stdout",
     "output_type": "stream",
     "text": [
      "<filter object at 0x0000025F1765E9B0>\n",
      "[4009, 4048, 4077, 4324, 4333, 4378, 4399, 4557, 4586, 4760, 4805, 4811, 4916, 4963, 4974]\n"
     ]
    }
   ],
   "source": [
    "f = lambda x: x >4000 and x < 5000\n",
    "data_final_result = filter(f, data_sorted1)\n",
    "print(data_final_result)\n",
    "print(list(data_final_result))"
   ]
  },
  {
   "cell_type": "code",
   "execution_count": null,
   "id": "839557c1",
   "metadata": {},
   "outputs": [],
   "source": []
  },
  {
   "cell_type": "code",
   "execution_count": null,
   "id": "59b4e3a9",
   "metadata": {},
   "outputs": [],
   "source": []
  },
  {
   "cell_type": "code",
   "execution_count": null,
   "id": "b09f4fa8",
   "metadata": {},
   "outputs": [],
   "source": []
  },
  {
   "cell_type": "code",
   "execution_count": null,
   "id": "7ff62745",
   "metadata": {},
   "outputs": [],
   "source": []
  },
  {
   "cell_type": "code",
   "execution_count": null,
   "id": "8e74aeb9",
   "metadata": {},
   "outputs": [],
   "source": []
  },
  {
   "cell_type": "code",
   "execution_count": null,
   "id": "c3157984",
   "metadata": {},
   "outputs": [],
   "source": []
  },
  {
   "cell_type": "code",
   "execution_count": null,
   "id": "64108e5c",
   "metadata": {},
   "outputs": [],
   "source": []
  },
  {
   "cell_type": "code",
   "execution_count": null,
   "id": "c2673fa5",
   "metadata": {},
   "outputs": [],
   "source": []
  },
  {
   "cell_type": "markdown",
   "id": "ed31d312",
   "metadata": {},
   "source": []
  },
  {
   "cell_type": "code",
   "execution_count": null,
   "id": "07e8b614",
   "metadata": {},
   "outputs": [],
   "source": []
  },
  {
   "cell_type": "code",
   "execution_count": null,
   "id": "bc6cc5b5",
   "metadata": {},
   "outputs": [],
   "source": []
  },
  {
   "cell_type": "code",
   "execution_count": null,
   "id": "13b30ccf",
   "metadata": {},
   "outputs": [],
   "source": []
  },
  {
   "cell_type": "code",
   "execution_count": null,
   "id": "3dd67524",
   "metadata": {},
   "outputs": [],
   "source": []
  }
 ],
 "metadata": {
  "kernelspec": {
   "display_name": "Python 3 (ipykernel)",
   "language": "python",
   "name": "python3"
  },
  "language_info": {
   "codemirror_mode": {
    "name": "ipython",
    "version": 3
   },
   "file_extension": ".py",
   "mimetype": "text/x-python",
   "name": "python",
   "nbconvert_exporter": "python",
   "pygments_lexer": "ipython3",
   "version": "3.11.3"
  }
 },
 "nbformat": 4,
 "nbformat_minor": 5
}
