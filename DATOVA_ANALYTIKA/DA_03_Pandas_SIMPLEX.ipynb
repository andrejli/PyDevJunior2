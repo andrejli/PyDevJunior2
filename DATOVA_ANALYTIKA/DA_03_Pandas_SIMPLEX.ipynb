{
 "cells": [
  {
   "cell_type": "code",
   "execution_count": 1,
   "id": "70b2431d",
   "metadata": {},
   "outputs": [],
   "source": [
    "import numpy as np\n",
    "import pandas as pd"
   ]
  },
  {
   "cell_type": "code",
   "execution_count": 4,
   "id": "a1f493ad",
   "metadata": {},
   "outputs": [
    {
     "name": "stdout",
     "output_type": "stream",
     "text": [
      "Andrej     1\n",
      "Beata      2\n",
      "Cyril      3\n",
      "Dezider    4\n",
      "Eugen      5\n",
      "dtype: int64 \n",
      " 0     6\n",
      "1     7\n",
      "2     8\n",
      "3     9\n",
      "4    10\n",
      "dtype: int64\n"
     ]
    }
   ],
   "source": [
    "a = pd.Series([1,2,3,4,5], index=['Andrej', 'Beata', 'Cyril', 'Dezider', 'Eugen'])\n",
    "b = pd.Series([6,7,8,9,10])\n",
    "print(a, '\\n', b)"
   ]
  },
  {
   "cell_type": "code",
   "execution_count": 5,
   "id": "93ffb3d2",
   "metadata": {},
   "outputs": [
    {
     "name": "stdout",
     "output_type": "stream",
     "text": [
      "<class 'pandas.core.series.Series'>\n"
     ]
    },
    {
     "data": {
      "text/plain": [
       "Andrej     False\n",
       "Beata      False\n",
       "Cyril      False\n",
       "Dezider     True\n",
       "Eugen       True\n",
       "dtype: bool"
      ]
     },
     "execution_count": 5,
     "metadata": {},
     "output_type": "execute_result"
    }
   ],
   "source": [
    "f = lambda x: x > 3\n",
    "print(type(a))\n",
    "a.map(f)"
   ]
  },
  {
   "cell_type": "code",
   "execution_count": 7,
   "id": "a8b2da3c",
   "metadata": {},
   "outputs": [
    {
     "name": "stdout",
     "output_type": "stream",
     "text": [
      "<filter object at 0x000001A548EB7550>\n",
      "[4, 5]\n"
     ]
    }
   ],
   "source": [
    "c = filter(f, a)\n",
    "print(c)\n",
    "print(list(c))"
   ]
  },
  {
   "cell_type": "code",
   "execution_count": 8,
   "id": "c77ef8d6",
   "metadata": {},
   "outputs": [
    {
     "data": {
      "text/plain": [
       "Andrej     1\n",
       "Beata      2\n",
       "Cyril      3\n",
       "Dezider    4\n",
       "Eugen      5\n",
       "dtype: int64"
      ]
     },
     "execution_count": 8,
     "metadata": {},
     "output_type": "execute_result"
    }
   ],
   "source": [
    "a.sort_values()"
   ]
  },
  {
   "cell_type": "code",
   "execution_count": 9,
   "id": "a6418383",
   "metadata": {},
   "outputs": [
    {
     "data": {
      "text/plain": [
       "Eugen      5\n",
       "Dezider    4\n",
       "Cyril      3\n",
       "Beata      2\n",
       "Andrej     1\n",
       "dtype: int64"
      ]
     },
     "execution_count": 9,
     "metadata": {},
     "output_type": "execute_result"
    }
   ],
   "source": [
    "a[::-1]"
   ]
  },
  {
   "cell_type": "code",
   "execution_count": 10,
   "id": "1f76c06a",
   "metadata": {},
   "outputs": [
    {
     "data": {
      "text/plain": [
       "[5, 4, 3, 2, 1]"
      ]
     },
     "execution_count": 10,
     "metadata": {},
     "output_type": "execute_result"
    }
   ],
   "source": [
    "sorted(a, reverse=True)"
   ]
  },
  {
   "cell_type": "markdown",
   "id": "160540fb",
   "metadata": {},
   "source": [
    "# DataFrame"
   ]
  },
  {
   "cell_type": "code",
   "execution_count": 16,
   "id": "0d61e711",
   "metadata": {},
   "outputs": [
    {
     "name": "stdout",
     "output_type": "stream",
     "text": [
      "         0\n",
      "Andrej   1\n",
      "Beata    2\n",
      "Cyril    3\n",
      "Dezider  4\n",
      "Eugen    5\n",
      "         0      1\n",
      "Andrej   1  False\n",
      "Beata    2  False\n",
      "Cyril    3  False\n",
      "Dezider  4   True\n",
      "Eugen    5   True\n",
      "         0      1   2\n",
      "Andrej   1  False   6\n",
      "Beata    2  False   7\n",
      "Cyril    3  False   8\n",
      "Dezider  4   True   9\n",
      "Eugen    5   True  10\n"
     ]
    }
   ],
   "source": [
    "data = pd.DataFrame(a)\n",
    "print(data)\n",
    "\n",
    "data[1] = a.map(f)\n",
    "print(data)\n",
    "\n",
    "data[2] = list(b)\n",
    "print(data)"
   ]
  },
  {
   "cell_type": "code",
   "execution_count": 19,
   "id": "d10599f2",
   "metadata": {},
   "outputs": [
    {
     "name": "stdout",
     "output_type": "stream",
     "text": [
      "         0      1   2   3\n",
      "Andrej   1  False   6   7\n",
      "Beata    2  False   7   9\n",
      "Cyril    3  False   8  11\n",
      "Dezider  4   True   9  13\n",
      "Eugen    5   True  10  15\n",
      "         0      1   2   3    4\n",
      "Andrej   1  False   6   7  1.0\n",
      "Beata    2  False   7   9  2.0\n",
      "Cyril    3  False   8  11  3.0\n",
      "Dezider  4   True   9  13  4.0\n",
      "Eugen    5   True  10  15  5.0\n"
     ]
    }
   ],
   "source": [
    "data[3] = data[0] + data[2]\n",
    "print(data)\n",
    "data[4] = data[3].rank()\n",
    "print(data)"
   ]
  },
  {
   "cell_type": "code",
   "execution_count": 22,
   "id": "eeb44b4c",
   "metadata": {},
   "outputs": [
    {
     "data": {
      "text/plain": [
       "Andrej      6\n",
       "Beata       7\n",
       "Cyril       8\n",
       "Dezider     9\n",
       "Eugen      10\n",
       "Name: 2, dtype: int64"
      ]
     },
     "execution_count": 22,
     "metadata": {},
     "output_type": "execute_result"
    }
   ],
   "source": [
    "data[2]"
   ]
  },
  {
   "cell_type": "code",
   "execution_count": 24,
   "id": "66ae5689",
   "metadata": {},
   "outputs": [
    {
     "name": "stdout",
     "output_type": "stream",
     "text": [
      "       0      1  2   3    4\n",
      "Cyril  3  False  8  11  3.0\n"
     ]
    }
   ],
   "source": [
    "f = data.loc[(data[4] >= 3) & (data[1] == False)]\n",
    "print(f)"
   ]
  },
  {
   "cell_type": "code",
   "execution_count": null,
   "id": "6398d65c",
   "metadata": {},
   "outputs": [],
   "source": [
    "# TODO Prestavka do 19:52"
   ]
  },
  {
   "cell_type": "code",
   "execution_count": null,
   "id": "b6cc8708",
   "metadata": {},
   "outputs": [],
   "source": []
  },
  {
   "cell_type": "code",
   "execution_count": null,
   "id": "3d70fe14",
   "metadata": {},
   "outputs": [],
   "source": []
  },
  {
   "cell_type": "code",
   "execution_count": null,
   "id": "14d542f3",
   "metadata": {},
   "outputs": [],
   "source": []
  },
  {
   "cell_type": "code",
   "execution_count": null,
   "id": "52accd17",
   "metadata": {},
   "outputs": [],
   "source": []
  },
  {
   "cell_type": "code",
   "execution_count": null,
   "id": "29af64d0",
   "metadata": {},
   "outputs": [],
   "source": []
  },
  {
   "cell_type": "code",
   "execution_count": null,
   "id": "94e64f3f",
   "metadata": {},
   "outputs": [],
   "source": []
  },
  {
   "cell_type": "code",
   "execution_count": null,
   "id": "46ead15b",
   "metadata": {},
   "outputs": [],
   "source": []
  },
  {
   "cell_type": "code",
   "execution_count": null,
   "id": "42ac0142",
   "metadata": {},
   "outputs": [],
   "source": []
  },
  {
   "cell_type": "code",
   "execution_count": null,
   "id": "02a9b750",
   "metadata": {},
   "outputs": [],
   "source": []
  },
  {
   "cell_type": "code",
   "execution_count": null,
   "id": "94d6a2df",
   "metadata": {},
   "outputs": [],
   "source": []
  },
  {
   "cell_type": "code",
   "execution_count": null,
   "id": "9d02cc48",
   "metadata": {},
   "outputs": [],
   "source": []
  },
  {
   "cell_type": "code",
   "execution_count": null,
   "id": "c56124a7",
   "metadata": {},
   "outputs": [],
   "source": []
  },
  {
   "cell_type": "code",
   "execution_count": null,
   "id": "55544785",
   "metadata": {},
   "outputs": [],
   "source": []
  }
 ],
 "metadata": {
  "kernelspec": {
   "display_name": "Python 3 (ipykernel)",
   "language": "python",
   "name": "python3"
  },
  "language_info": {
   "codemirror_mode": {
    "name": "ipython",
    "version": 3
   },
   "file_extension": ".py",
   "mimetype": "text/x-python",
   "name": "python",
   "nbconvert_exporter": "python",
   "pygments_lexer": "ipython3",
   "version": "3.11.3"
  }
 },
 "nbformat": 4,
 "nbformat_minor": 5
}
