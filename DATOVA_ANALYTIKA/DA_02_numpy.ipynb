{
 "cells": [
  {
   "cell_type": "code",
   "execution_count": 2,
   "id": "c8e8927b",
   "metadata": {},
   "outputs": [],
   "source": [
    "import numpy as np  # NUMPY\n",
    "import random"
   ]
  },
  {
   "cell_type": "code",
   "execution_count": 5,
   "id": "4ceea10a",
   "metadata": {},
   "outputs": [
    {
     "name": "stdout",
     "output_type": "stream",
     "text": [
      "[[1 2 3]\n",
      " [4 5 6]\n",
      " [7 8 9]]\n",
      "[1 2 3]\n"
     ]
    },
    {
     "data": {
      "text/plain": [
       "dtype('int16')"
      ]
     },
     "execution_count": 5,
     "metadata": {},
     "output_type": "execute_result"
    }
   ],
   "source": [
    "a = np.array([[1,2,3],[4,5,6],[7,8,9]], dtype=np.int16)\n",
    "print(a)\n",
    "print(a[0])\n",
    "a.dtype"
   ]
  },
  {
   "cell_type": "code",
   "execution_count": 8,
   "id": "23db2688",
   "metadata": {},
   "outputs": [
    {
     "data": {
      "text/plain": [
       "array([[10, 15, 20, 25, 30, 35],\n",
       "       [40, 45, 50, 55, 60, 65],\n",
       "       [70, 75, 80, 85, 90, 95]])"
      ]
     },
     "execution_count": 8,
     "metadata": {},
     "output_type": "execute_result"
    }
   ],
   "source": [
    "np.arange(10,100,5).reshape(3,6)"
   ]
  },
  {
   "cell_type": "code",
   "execution_count": 9,
   "id": "2038c5f3",
   "metadata": {},
   "outputs": [
    {
     "data": {
      "text/plain": [
       "array([[[ 0,  1,  2],\n",
       "        [ 3,  4,  5],\n",
       "        [ 6,  7,  8]],\n",
       "\n",
       "       [[ 9, 10, 11],\n",
       "        [12, 13, 14],\n",
       "        [15, 16, 17]],\n",
       "\n",
       "       [[18, 19, 20],\n",
       "        [21, 22, 23],\n",
       "        [24, 25, 26]]])"
      ]
     },
     "execution_count": 9,
     "metadata": {},
     "output_type": "execute_result"
    }
   ],
   "source": [
    "np.arange(27).reshape(3,3,3)"
   ]
  },
  {
   "cell_type": "code",
   "execution_count": 10,
   "id": "a355c56d",
   "metadata": {},
   "outputs": [
    {
     "data": {
      "text/plain": [
       "array([[   0,    1,    2, ...,   97,   98,   99],\n",
       "       [ 100,  101,  102, ...,  197,  198,  199],\n",
       "       [ 200,  201,  202, ...,  297,  298,  299],\n",
       "       ...,\n",
       "       [9700, 9701, 9702, ..., 9797, 9798, 9799],\n",
       "       [9800, 9801, 9802, ..., 9897, 9898, 9899],\n",
       "       [9900, 9901, 9902, ..., 9997, 9998, 9999]])"
      ]
     },
     "execution_count": 10,
     "metadata": {},
     "output_type": "execute_result"
    }
   ],
   "source": [
    "np.arange(10000).reshape(100,100)"
   ]
  },
  {
   "cell_type": "code",
   "execution_count": 24,
   "id": "f163e11d",
   "metadata": {},
   "outputs": [
    {
     "data": {
      "text/plain": [
       "array([[    2,   658,  3657],\n",
       "       [    8, 11197,    12],\n",
       "       [   82,   927,    78]], dtype=int16)"
      ]
     },
     "execution_count": 24,
     "metadata": {},
     "output_type": "execute_result"
    }
   ],
   "source": [
    "a = np.array([[1,2,3],[4,5543,6],[7,842,9]], dtype=np.int16)\n",
    "b = np.array([[1,656,3654],[4,5654,6],[75,85,69]], dtype=np.int16)\n",
    "a + b"
   ]
  },
  {
   "cell_type": "code",
   "execution_count": null,
   "id": "06da55e5",
   "metadata": {},
   "outputs": [],
   "source": []
  },
  {
   "cell_type": "code",
   "execution_count": 25,
   "id": "ee9ca18c",
   "metadata": {},
   "outputs": [
    {
     "name": "stdout",
     "output_type": "stream",
     "text": [
      "[[0.51182162 0.9504637  0.14415961 0.94864945]\n",
      " [0.31183145 0.42332645 0.82770259 0.40919914]\n",
      " [0.54959369 0.02755911 0.75351311 0.53814331]\n",
      " [0.32973172 0.7884287  0.30319483 0.45349789]]\n"
     ]
    }
   ],
   "source": [
    "rnd = np.random.default_rng(1)\n",
    "a = rnd.random((4,4))\n",
    "print(a)"
   ]
  },
  {
   "cell_type": "code",
   "execution_count": null,
   "id": "16ace8b8",
   "metadata": {},
   "outputs": [],
   "source": []
  },
  {
   "cell_type": "code",
   "execution_count": 26,
   "id": "63d59034",
   "metadata": {},
   "outputs": [
    {
     "name": "stdout",
     "output_type": "stream",
     "text": [
      "[[2.51182162 2.9504637  2.14415961 2.94864945]\n",
      " [2.31183145 2.42332645 2.82770259 2.40919914]\n",
      " [2.54959369 2.02755911 2.75351311 2.53814331]\n",
      " [2.32973172 2.7884287  2.30319483 2.45349789]]\n"
     ]
    }
   ],
   "source": [
    "a += 2\n",
    "print(a)"
   ]
  },
  {
   "cell_type": "code",
   "execution_count": null,
   "id": "aaa3f793",
   "metadata": {},
   "outputs": [],
   "source": []
  },
  {
   "cell_type": "code",
   "execution_count": 18,
   "id": "1ac57f58",
   "metadata": {},
   "outputs": [
    {
     "name": "stdout",
     "output_type": "stream",
     "text": [
      "[[ 0  1  2  3]\n",
      " [ 4  5  6  7]\n",
      " [ 8  9 10 11]\n",
      " [12 13 14 15]]\n"
     ]
    }
   ],
   "source": [
    "b = np.arange(16).reshape(4,4)\n",
    "print(b)"
   ]
  },
  {
   "cell_type": "code",
   "execution_count": 23,
   "id": "0c1b1ffd",
   "metadata": {},
   "outputs": [
    {
     "name": "stdout",
     "output_type": "stream",
     "text": [
      "[[ 2.51182162  7.9504637  12.14415961 17.94864945]\n",
      " [22.31183145 27.42332645 32.82770259 37.40919914]\n",
      " [42.54959369 47.02755911 52.75351311 57.53814331]\n",
      " [62.32973172 67.7884287  72.30319483 77.45349789]]\n"
     ]
    },
    {
     "data": {
      "text/plain": [
       "77.45349788948064"
      ]
     },
     "execution_count": 23,
     "metadata": {},
     "output_type": "execute_result"
    }
   ],
   "source": [
    "a += b\n",
    "print(a)\n",
    "a.max()"
   ]
  },
  {
   "cell_type": "code",
   "execution_count": 32,
   "id": "b1fbf118",
   "metadata": {},
   "outputs": [
    {
     "name": "stdout",
     "output_type": "stream",
     "text": [
      "[[0.  0.2 0.4]\n",
      " [0.6 0.8 1. ]]\n"
     ]
    },
    {
     "data": {
      "text/plain": [
       "2.4000000000000004"
      ]
     },
     "execution_count": 32,
     "metadata": {},
     "output_type": "execute_result"
    }
   ],
   "source": [
    "c = np.linspace(0,1,6).reshape(2,3)\n",
    "print(c)\n",
    "c[0].sum(axis=0)\n",
    "c[1].sum(axis=0)"
   ]
  },
  {
   "cell_type": "code",
   "execution_count": 37,
   "id": "10f8edf4",
   "metadata": {},
   "outputs": [
    {
     "name": "stdout",
     "output_type": "stream",
     "text": [
      "[1. 1. 1. 1. 1. 1. 1. 1. 1. 1. 1. 1.]\n",
      "12.0\n"
     ]
    },
    {
     "data": {
      "text/plain": [
       "12"
      ]
     },
     "execution_count": 37,
     "metadata": {},
     "output_type": "execute_result"
    }
   ],
   "source": [
    "d = np.ones(12)\n",
    "print(d)\n",
    "print(d.sum())\n",
    "len(d)"
   ]
  },
  {
   "cell_type": "code",
   "execution_count": 40,
   "id": "bd317fcd",
   "metadata": {},
   "outputs": [
    {
     "name": "stdout",
     "output_type": "stream",
     "text": [
      "[ 0  2  4  6  8 10 12 14 16 18 20 22 24 26 28 30 32 34 36 38]\n",
      "6\n",
      "[ 6  8 10 12 14 16 18 20 22 24 26 28 30 32 34 36 38]\n"
     ]
    }
   ],
   "source": [
    "a = np.arange(20)*2\n",
    "print(a)\n",
    "print(a[3])\n",
    "print(a[3:])\n"
   ]
  },
  {
   "cell_type": "code",
   "execution_count": 41,
   "id": "f2706db4",
   "metadata": {},
   "outputs": [
    {
     "name": "stdout",
     "output_type": "stream",
     "text": [
      "[[1. 1. 1.]\n",
      " [1. 1. 1.]\n",
      " [1. 1. 1.]]\n"
     ]
    }
   ],
   "source": [
    "a = np.ones((3,3))\n",
    "print(a)"
   ]
  },
  {
   "cell_type": "code",
   "execution_count": 42,
   "id": "84d918d3",
   "metadata": {},
   "outputs": [
    {
     "data": {
      "text/plain": [
       "array([1., 1., 1.])"
      ]
     },
     "execution_count": 42,
     "metadata": {},
     "output_type": "execute_result"
    }
   ],
   "source": [
    "a[0:4,0]"
   ]
  },
  {
   "cell_type": "code",
   "execution_count": null,
   "id": "850de6a7",
   "metadata": {},
   "outputs": [],
   "source": [
    "# PRESTAVKA DO 19:50"
   ]
  },
  {
   "cell_type": "code",
   "execution_count": 44,
   "id": "177f2f27",
   "metadata": {},
   "outputs": [
    {
     "name": "stdout",
     "output_type": "stream",
     "text": [
      "[[0.85263284 0.59294102 0.26009745 0.83988152 0.50949588]\n",
      " [0.51088888 0.75303021 0.14792204 0.81962672 0.68328691]\n",
      " [0.78709694 0.19161626 0.80236416 0.19132393 0.08155262]\n",
      " [0.85522697 0.8612835  0.8765371  0.47190972 0.27404839]\n",
      " [0.00709183 0.6457209  0.71990938 0.83556922 0.28187783]]\n",
      "[0.85263284 0.59294102 0.26009745 0.83988152 0.50949588]\n",
      "[0.51088888 0.75303021 0.14792204 0.81962672 0.68328691]\n",
      "[0.78709694 0.19161626 0.80236416 0.19132393 0.08155262]\n",
      "[0.85522697 0.8612835  0.8765371  0.47190972 0.27404839]\n",
      "[0.00709183 0.6457209  0.71990938 0.83556922 0.28187783]\n"
     ]
    }
   ],
   "source": [
    "b = rnd.random((5,5))\n",
    "print(b)\n",
    "for riadok in b:\n",
    "    print(riadok)"
   ]
  },
  {
   "cell_type": "code",
   "execution_count": 47,
   "id": "0aa47df2",
   "metadata": {},
   "outputs": [
    {
     "name": "stdout",
     "output_type": "stream",
     "text": [
      "0.8526328384806567\n",
      "0.592941018104284\n",
      "0.2600974477372232\n",
      "0.8398815210314088\n",
      "0.5094958815215094\n",
      "0.510888884466533\n",
      "0.7530302077021779\n",
      "0.14792203578495655\n",
      "0.819626719119277\n",
      "0.6832869060032571\n",
      "0.787096941554801\n",
      "0.19161625902013524\n",
      "0.80236416113453\n",
      "0.19132392605720028\n",
      "0.08155261736351271\n",
      "0.8552269742870702\n",
      "0.8612834961776684\n",
      "0.8765370964165805\n",
      "0.4719097193587902\n",
      "0.2740483886137183\n",
      "0.007091828603166261\n",
      "0.6457208955749478\n",
      "0.719909383508693\n",
      "0.8355692165002742\n",
      "0.28187782736454214\n"
     ]
    }
   ],
   "source": [
    "for riadok in b.flat:\n",
    "    print(riadok)"
   ]
  },
  {
   "cell_type": "code",
   "execution_count": 48,
   "id": "2c9e609d",
   "metadata": {},
   "outputs": [
    {
     "name": "stdout",
     "output_type": "stream",
     "text": [
      "[[0.85263284 0.59294102 0.26009745 0.83988152 0.50949588 0.51088888\n",
      "  0.75303021 0.14792204 0.81962672 0.68328691]\n",
      " [0.78709694 0.19161626 0.80236416 0.19132393 0.08155262 0.85522697\n",
      "  0.8612835  0.8765371  0.47190972 0.27404839]]\n"
     ]
    }
   ],
   "source": [
    "b.resize(2,10)\n",
    "print(b)"
   ]
  },
  {
   "cell_type": "code",
   "execution_count": 49,
   "id": "41a10c1c",
   "metadata": {},
   "outputs": [
    {
     "data": {
      "text/plain": [
       "array([[0.85263284, 0.59294102, 0.26009745, 0.83988152],\n",
       "       [0.50949588, 0.51088888, 0.75303021, 0.14792204],\n",
       "       [0.81962672, 0.68328691, 0.78709694, 0.19161626],\n",
       "       [0.80236416, 0.19132393, 0.08155262, 0.85522697],\n",
       "       [0.8612835 , 0.8765371 , 0.47190972, 0.27404839]])"
      ]
     },
     "execution_count": 49,
     "metadata": {},
     "output_type": "execute_result"
    }
   ],
   "source": [
    "b.reshape(5,4)"
   ]
  },
  {
   "cell_type": "code",
   "execution_count": 50,
   "id": "d255c646",
   "metadata": {},
   "outputs": [
    {
     "data": {
      "text/plain": [
       "[array([[0.85263284, 0.59294102, 0.26009745, 0.83988152, 0.50949588,\n",
       "         0.51088888, 0.75303021, 0.14792204, 0.81962672, 0.68328691]]),\n",
       " array([[0.78709694, 0.19161626, 0.80236416, 0.19132393, 0.08155262,\n",
       "         0.85522697, 0.8612835 , 0.8765371 , 0.47190972, 0.27404839]])]"
      ]
     },
     "execution_count": 50,
     "metadata": {},
     "output_type": "execute_result"
    }
   ],
   "source": [
    "np.split(b,2)"
   ]
  },
  {
   "cell_type": "code",
   "execution_count": 51,
   "id": "e3c036f4",
   "metadata": {},
   "outputs": [
    {
     "data": {
      "text/plain": [
       "array([[0, 1, 2],\n",
       "       [1, 2, 3],\n",
       "       [2, 3, 4]])"
      ]
     },
     "execution_count": 51,
     "metadata": {},
     "output_type": "execute_result"
    }
   ],
   "source": [
    "np.fromfunction(lambda x,j: x+j, (3,3), dtype=int)"
   ]
  },
  {
   "cell_type": "code",
   "execution_count": 54,
   "id": "6312528f",
   "metadata": {},
   "outputs": [
    {
     "name": "stdout",
     "output_type": "stream",
     "text": [
      "[0.67345989 0.91908862 0.82682533 0.88552027 0.66035538]\n",
      "[0.66035538 0.67345989 0.82682533 0.88552027 0.91908862]\n"
     ]
    },
    {
     "data": {
      "text/plain": [
       "array([0.91908862, 0.88552027, 0.82682533, 0.67345989, 0.66035538])"
      ]
     },
     "execution_count": 54,
     "metadata": {},
     "output_type": "execute_result"
    }
   ],
   "source": [
    "b = rnd.random((5))\n",
    "print(b)\n",
    "sorted_b = np.sort(b)\n",
    "print(sorted_b)\n",
    "sorted_b[::-1]"
   ]
  },
  {
   "cell_type": "code",
   "execution_count": null,
   "id": "a21f03f8",
   "metadata": {},
   "outputs": [],
   "source": []
  },
  {
   "cell_type": "code",
   "execution_count": null,
   "id": "feba2397",
   "metadata": {},
   "outputs": [],
   "source": []
  },
  {
   "cell_type": "code",
   "execution_count": null,
   "id": "6b9f3722",
   "metadata": {},
   "outputs": [],
   "source": []
  },
  {
   "cell_type": "code",
   "execution_count": null,
   "id": "c3c4450d",
   "metadata": {},
   "outputs": [],
   "source": []
  },
  {
   "cell_type": "code",
   "execution_count": null,
   "id": "79d5beae",
   "metadata": {},
   "outputs": [],
   "source": []
  },
  {
   "cell_type": "code",
   "execution_count": null,
   "id": "9432d845",
   "metadata": {},
   "outputs": [],
   "source": []
  },
  {
   "cell_type": "code",
   "execution_count": null,
   "id": "b0d6af1b",
   "metadata": {},
   "outputs": [],
   "source": []
  },
  {
   "cell_type": "code",
   "execution_count": null,
   "id": "7fe787ed",
   "metadata": {},
   "outputs": [],
   "source": []
  },
  {
   "cell_type": "code",
   "execution_count": null,
   "id": "984021e6",
   "metadata": {},
   "outputs": [],
   "source": []
  },
  {
   "cell_type": "code",
   "execution_count": null,
   "id": "c7b01e69",
   "metadata": {},
   "outputs": [],
   "source": []
  },
  {
   "cell_type": "code",
   "execution_count": null,
   "id": "5d9116dd",
   "metadata": {},
   "outputs": [],
   "source": []
  },
  {
   "cell_type": "code",
   "execution_count": null,
   "id": "04aa999e",
   "metadata": {},
   "outputs": [],
   "source": []
  },
  {
   "cell_type": "code",
   "execution_count": null,
   "id": "c8abc6b5",
   "metadata": {},
   "outputs": [],
   "source": []
  },
  {
   "cell_type": "code",
   "execution_count": null,
   "id": "f84ab062",
   "metadata": {},
   "outputs": [],
   "source": []
  },
  {
   "cell_type": "code",
   "execution_count": null,
   "id": "52760f95",
   "metadata": {},
   "outputs": [],
   "source": []
  },
  {
   "cell_type": "code",
   "execution_count": null,
   "id": "65ece242",
   "metadata": {},
   "outputs": [],
   "source": []
  },
  {
   "cell_type": "code",
   "execution_count": null,
   "id": "94b2b252",
   "metadata": {},
   "outputs": [],
   "source": []
  },
  {
   "cell_type": "code",
   "execution_count": null,
   "id": "ed54975c",
   "metadata": {},
   "outputs": [],
   "source": []
  },
  {
   "cell_type": "code",
   "execution_count": null,
   "id": "caa20279",
   "metadata": {},
   "outputs": [],
   "source": []
  },
  {
   "cell_type": "code",
   "execution_count": null,
   "id": "910a654e",
   "metadata": {},
   "outputs": [],
   "source": []
  },
  {
   "cell_type": "code",
   "execution_count": null,
   "id": "4a15c1b8",
   "metadata": {},
   "outputs": [],
   "source": []
  },
  {
   "cell_type": "code",
   "execution_count": null,
   "id": "3d66658d",
   "metadata": {},
   "outputs": [],
   "source": []
  },
  {
   "cell_type": "code",
   "execution_count": null,
   "id": "8ac0cd48",
   "metadata": {},
   "outputs": [],
   "source": []
  },
  {
   "cell_type": "code",
   "execution_count": null,
   "id": "d684fc4c",
   "metadata": {},
   "outputs": [],
   "source": []
  },
  {
   "cell_type": "code",
   "execution_count": null,
   "id": "b1f93395",
   "metadata": {},
   "outputs": [],
   "source": []
  },
  {
   "cell_type": "code",
   "execution_count": null,
   "id": "02b3896e",
   "metadata": {},
   "outputs": [],
   "source": []
  },
  {
   "cell_type": "code",
   "execution_count": null,
   "id": "75d6ac45",
   "metadata": {},
   "outputs": [],
   "source": []
  },
  {
   "cell_type": "code",
   "execution_count": null,
   "id": "f28c5adc",
   "metadata": {},
   "outputs": [],
   "source": []
  },
  {
   "cell_type": "code",
   "execution_count": null,
   "id": "f76d1341",
   "metadata": {},
   "outputs": [],
   "source": []
  }
 ],
 "metadata": {
  "kernelspec": {
   "display_name": "Python 3 (ipykernel)",
   "language": "python",
   "name": "python3"
  },
  "language_info": {
   "codemirror_mode": {
    "name": "ipython",
    "version": 3
   },
   "file_extension": ".py",
   "mimetype": "text/x-python",
   "name": "python",
   "nbconvert_exporter": "python",
   "pygments_lexer": "ipython3",
   "version": "3.11.3"
  }
 },
 "nbformat": 4,
 "nbformat_minor": 5
}
